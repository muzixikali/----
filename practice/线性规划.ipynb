{
 "cells": [
  {
   "cell_type": "markdown",
   "id": "8b2e3138",
   "metadata": {},
   "source": [
    "# 机床生产利润问题"
   ]
  },
  {
   "cell_type": "code",
   "execution_count": 4,
   "id": "06b7301f",
   "metadata": {},
   "outputs": [
    {
     "name": "stdout",
     "output_type": "stream",
     "text": [
      "最优解:[2. 6.]\n",
      "最优值:25.99999999984096\n"
     ]
    }
   ],
   "source": [
    "# 导库\n",
    "from scipy import optimize\n",
    "import numpy as np\n",
    "\n",
    "# 目标函数\n",
    "c = np.array([4,3]) \n",
    "\n",
    "#不等式约束\n",
    "A = np.array([[2,1],[1,1],[0,1]])\n",
    "b = np.array([10,8,7])\n",
    "\n",
    "# 上下界约束\n",
    "lb = [0, 0]\n",
    "ub = [None, None]\n",
    "bounds = np.array(list(zip(lb, ub)))\n",
    "\n",
    "# 求解\n",
    "result = optimize.linprog(-c, A, b, None, None, bounds)\n",
    "x=result.x\n",
    "zmax=-result.fun\n",
    "print(f\"最优解:{x}\\n最优值:{zmax}\")"
   ]
  },
  {
   "cell_type": "code",
   "execution_count": 15,
   "id": "45d3ef0f",
   "metadata": {},
   "outputs": [
    {
     "name": "stdout",
     "output_type": "stream",
     "text": [
      "NoName:\n",
      "MAXIMIZE\n",
      "4*x1 + 3*x2 + 0\n",
      "SUBJECT TO\n",
      "_C1: 2 x1 + x2 <= 10\n",
      "\n",
      "_C2: x1 + x2 <= 8\n",
      "\n",
      "_C3: x2 <= 7\n",
      "\n",
      "VARIABLES\n",
      "x1 Continuous\n",
      "x2 Continuous\n",
      "\n",
      "最优值：26.0\n",
      "最优解：[2.0,6.0]\n"
     ]
    }
   ],
   "source": [
    "# 导库\n",
    "import pulp\n",
    "import numpy as np\n",
    "\n",
    "# 初始化线性规划问题模型\n",
    "pro = pulp.LpProblem(sense=pulp.LpMaximize)\n",
    "\n",
    "# 创建决策变量\n",
    "x1=pulp.LpVariable('x1',lowBound=0)\n",
    "x2=pulp.LpVariable('x2',lowBound=0)\n",
    "\n",
    "#建立目标函数\n",
    "pro+=4*x1+3*x2\n",
    "\n",
    "# 不等式约束\n",
    "pro+= (2*x1+x2<=10)\n",
    "pro+= (x1+x2<=8)\n",
    "pro+= (x2<=7)\n",
    "\n",
    "#求解\n",
    "pro.solve()\n",
    "\n",
    "#输出结果\n",
    "print(pro)\n",
    "print(f'最优值：{pulp.value(pro.objective)}')\n",
    "print(f'最优解：[{pulp.value(x1)},{pulp.value(x2)}]')"
   ]
  },
  {
   "cell_type": "markdown",
   "id": "ecaa21b5",
   "metadata": {},
   "source": [
    "# 仓库租借问题"
   ]
  },
  {
   "cell_type": "code",
   "execution_count": 44,
   "id": "81a39da9",
   "metadata": {},
   "outputs": [
    {
     "name": "stdout",
     "output_type": "stream",
     "text": [
      "NoName:\n",
      "MINIMIZE\n",
      "2800*x_11 + 4500*x_12 + 6000*x_13 + 7300*x_14 + 2800*x_21 + 4500*x_22 + 6000*x_23 + 2800*x_31 + 4500*x_32 + 2800*x_41 + 0\n",
      "SUBJECT TO\n",
      "_C1: x_11 + x_12 + x_13 + x_14 >= 15\n",
      "\n",
      "_C2: x_12 + x_13 + x_14 + x_22 + x_23 + x_24 >= 10\n",
      "\n",
      "_C3: x_13 + x_14 + x_22 + x_23 + x_31 + x_32 >= 20\n",
      "\n",
      "_C4: x_14 + x_23 + x_32 + x_41 >= 12\n",
      "\n",
      "VARIABLES\n",
      "x_11 Continuous\n",
      "x_12 Continuous\n",
      "x_13 Continuous\n",
      "x_14 Continuous\n",
      "x_21 Continuous\n",
      "x_22 Continuous\n",
      "x_23 Continuous\n",
      "x_24 Continuous\n",
      "x_31 Continuous\n",
      "x_32 Continuous\n",
      "x_41 Continuous\n",
      "\n",
      "最优值：118400.0\n",
      "最优解:\n",
      "[[3.0 0.0 0.0 12.0]\n",
      " [0.0 0.0 0.0 0.0]\n",
      " [8.0 0.0 0 0]\n",
      " [0.0 0 0 0]]\n"
     ]
    }
   ],
   "source": [
    "# 导库\n",
    "import pulp\n",
    "import numpy as np\n",
    "\n",
    "# 初始化线性规划问题模型\n",
    "pro = pulp.LpProblem(sense=pulp.LpMinimize)\n",
    "\n",
    "# 创建决策变量\n",
    "x = []\n",
    "for i in range(1, 5):\n",
    "    x.append([pulp.LpVariable(f\"x_{i}{j}\", lowBound=0) for j in range(1, 5)])\n",
    "x = np.array(x)\n",
    "\n",
    "#建立目标函数\n",
    "pro += 2800 * np.sum(x[:, 0]) + 4500 * np.sum(x[0:3, 1]) + 6000 * np.sum(\n",
    "    x[0:2, 2]) + 7300 * x[0, 3]\n",
    "\n",
    "# 不等式约束\n",
    "pro += np.sum(x[0, :]) >= 15\n",
    "pro += np.sum(x[0, 1:4]) + np.sum(x[1, 1:4]) >= 10\n",
    "pro += np.sum(x[0, 2:4]) + np.sum(x[1, 1:3]) + np.sum(x[2, 0:2]) >= 20\n",
    "pro += x[0, 3] + x[1, 2] + x[2, 1] + x[3, 0] >= 12\n",
    "\n",
    "#求解\n",
    "pro.solve()\n",
    "\n",
    "#输出结果\n",
    "print(pro)\n",
    "print(f'最优值：{pulp.value(pro.objective)}')\n",
    "for i in range(4):\n",
    "    for j in range(4):\n",
    "        x[i, j] = pulp.value(x[i, j])\n",
    "x[x == None] = 0\n",
    "print(f'最优解:\\n{x}')"
   ]
  },
  {
   "cell_type": "code",
   "execution_count": null,
   "id": "1a549cf5",
   "metadata": {},
   "outputs": [],
   "source": []
  }
 ],
 "metadata": {
  "kernelspec": {
   "display_name": "Python 3 (ipykernel)",
   "language": "python",
   "name": "python3"
  },
  "language_info": {
   "codemirror_mode": {
    "name": "ipython",
    "version": 3
   },
   "file_extension": ".py",
   "mimetype": "text/x-python",
   "name": "python",
   "nbconvert_exporter": "python",
   "pygments_lexer": "ipython3",
   "version": "3.9.12"
  },
  "latex_envs": {
   "LaTeX_envs_menu_present": true,
   "autoclose": false,
   "autocomplete": true,
   "bibliofile": "biblio.bib",
   "cite_by": "apalike",
   "current_citInitial": 1,
   "eqLabelWithNumbers": true,
   "eqNumInitial": 1,
   "hotkeys": {
    "equation": "Ctrl-E",
    "itemize": "Ctrl-I"
   },
   "labels_anchors": false,
   "latex_user_defs": false,
   "report_style_numbering": false,
   "user_envs_cfg": false
  },
  "toc": {
   "base_numbering": 1,
   "nav_menu": {
    "height": "115px",
    "width": "178px"
   },
   "number_sections": true,
   "sideBar": true,
   "skip_h1_title": false,
   "title_cell": "Table of Contents",
   "title_sidebar": "Contents",
   "toc_cell": false,
   "toc_position": {},
   "toc_section_display": true,
   "toc_window_display": false
  }
 },
 "nbformat": 4,
 "nbformat_minor": 5
}
