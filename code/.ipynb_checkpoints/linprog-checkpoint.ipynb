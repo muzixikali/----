{
 "cells": [
  {
   "cell_type": "code",
   "execution_count": 34,
   "id": "4bea5ee3",
   "metadata": {},
   "outputs": [
    {
     "name": "stdout",
     "output_type": "stream",
     "text": [
      "     con: array([1.80712245e-09])\n",
      "     fun: -14.571428565645084\n",
      " message: 'Optimization terminated successfully.'\n",
      "     nit: 5\n",
      "   slack: array([-2.24599006e-10,  3.85714286e+00])\n",
      "  status: 0\n",
      " success: True\n",
      "       x: array([6.42857143e+00, 5.71428571e-01, 2.35900788e-10])\n",
      "最优解:[6.42857143e+00 5.71428571e-01 2.35900788e-10]\n",
      "最优值:14.571428565645084\n"
     ]
    }
   ],
   "source": [
    "# 导库\n",
    "from scipy import optimize\n",
    "import numpy as np\n",
    "\n",
    "# 目标函数\n",
    "c = np.array([-2, -3, 5])\n",
    "\n",
    "#不等式约束\n",
    "A = np.array([[-2, 5, -1], [1, 3, 1]])\n",
    "b = np.array([-10, 12])\n",
    "\n",
    "# 等式约束\n",
    "Aeq = np.array([[1, 1, 1]])\n",
    "beq = np.array([7])\n",
    "\n",
    "# 上下界约束\n",
    "lb = [0, 0, 0]\n",
    "rb = [None, None, None]\n",
    "bounds = np.array(list(zip(lb, rb)))\n",
    "\n",
    "# 求解\n",
    "result = optimize.linprog(c, A, b, Aeq, beq, bounds)\n",
    "x=result.x\n",
    "zmax=-result.fun\n",
    "print(result)\n",
    "print(f\"最优解:{x}\\n最优值:{zmax}\")"
   ]
  },
  {
   "cell_type": "code",
   "execution_count": 45,
   "id": "fe071137",
   "metadata": {},
   "outputs": [
    {
     "name": "stdout",
     "output_type": "stream",
     "text": [
      "NoName:\n",
      "MINIMIZE\n",
      "-2*x1 + -3*x2 + 5*x3 + 0\n",
      "SUBJECT TO\n",
      "_C1: - 2 x1 + 5 x2 - x3 <= -10\n",
      "\n",
      "_C2: x1 + 3 x2 + x3 <= 12\n",
      "\n",
      "_C3: x1 + x2 + x3 = 7\n",
      "\n",
      "VARIABLES\n",
      "x1 Continuous\n",
      "x2 Continuous\n",
      "x3 Continuous\n",
      "\n",
      "最优值：14.57142851\n",
      "最优解：[6.4285714, 0.57142857, 0.0]\n"
     ]
    }
   ],
   "source": [
    "# 导库\n",
    "import pulp\n",
    "import numpy as np\n",
    "\n",
    "# 初始化线性规划问题模型\n",
    "pro = pulp.LpProblem()\n",
    "\n",
    "# 创建决策变量\n",
    "lb = [0, 0, 0]\n",
    "rb = [None, None, None]\n",
    "bounds = np.array(list(zip(lb, rb)))\n",
    "x = np.array([\n",
    "    pulp.LpVariable(f'x{i}',\n",
    "                    lowBound=bounds[i - 1][0],\n",
    "                    upBound=bounds[i - 1][1]) for i in [1, 2, 3]\n",
    "])\n",
    "\n",
    "#建立目标函数\n",
    "c = np.array([-2, -3, 5])\n",
    "pro += pulp.lpDot(c, x)\n",
    "\n",
    "# 不等式约束\n",
    "A = np.array([[-2, 5, -1], [1, 3, 1]])\n",
    "b = np.array([-10, 12])\n",
    "for i in range(len(A)):\n",
    "    pro += (pulp.lpDot(A[i], x) <= b[i])  # 添加限制条件\n",
    "\n",
    "# 等式约束\n",
    "Aeq = np.array([[1, 1, 1]])\n",
    "beq = np.array([7])\n",
    "for i in range(len(Aeq)):\n",
    "    pro += (pulp.lpDot(Aeq[i], x) == beq[i])\n",
    "\n",
    "#求解\n",
    "pro.solve()\n",
    "\n",
    "#输出结果\n",
    "print(pro)\n",
    "print(f'最优值：{-pulp.value(pro.objective)}')\n",
    "print(f'最优解：{[pulp.value(var) for var in x]}')"
   ]
  },
  {
   "cell_type": "code",
   "execution_count": null,
   "id": "4b3c5e10",
   "metadata": {},
   "outputs": [],
   "source": []
  }
 ],
 "metadata": {
  "kernelspec": {
   "display_name": "Python 3 (ipykernel)",
   "language": "python",
   "name": "python3"
  },
  "language_info": {
   "codemirror_mode": {
    "name": "ipython",
    "version": 3
   },
   "file_extension": ".py",
   "mimetype": "text/x-python",
   "name": "python",
   "nbconvert_exporter": "python",
   "pygments_lexer": "ipython3",
   "version": "3.9.12"
  },
  "latex_envs": {
   "LaTeX_envs_menu_present": true,
   "autoclose": false,
   "autocomplete": true,
   "bibliofile": "biblio.bib",
   "cite_by": "apalike",
   "current_citInitial": 1,
   "eqLabelWithNumbers": true,
   "eqNumInitial": 1,
   "hotkeys": {
    "equation": "Ctrl-E",
    "itemize": "Ctrl-I"
   },
   "labels_anchors": false,
   "latex_user_defs": false,
   "report_style_numbering": false,
   "user_envs_cfg": false
  },
  "toc": {
   "base_numbering": 1,
   "nav_menu": {},
   "number_sections": true,
   "sideBar": true,
   "skip_h1_title": false,
   "title_cell": "Table of Contents",
   "title_sidebar": "Contents",
   "toc_cell": false,
   "toc_position": {},
   "toc_section_display": true,
   "toc_window_display": false
  }
 },
 "nbformat": 4,
 "nbformat_minor": 5
}
