{
 "cells": [
  {
   "cell_type": "code",
   "execution_count": 50,
   "id": "142aeb5e",
   "metadata": {},
   "outputs": [],
   "source": [
    "from scipy import optimize\n",
    "import numpy as np\n",
    "\n",
    "\n",
    "class Nolinprog:\n",
    "    \"\"\"非线性规划问题类\"\"\"\n",
    "    def __init__(self,\n",
    "                 fun,\n",
    "                 x0,\n",
    "                 A=[],\n",
    "                 b=[],\n",
    "                 Aeq=[],\n",
    "                 beq=[],\n",
    "                 lb=None,\n",
    "                 ub=None,\n",
    "                 c=None,\n",
    "                 ceq=None):\n",
    "\n",
    "        # 初始化参数\n",
    "        self.fun = fun\n",
    "        self.x0 = x0\n",
    "        self.A = A\n",
    "        self.b = b\n",
    "        self.Aeq = Aeq\n",
    "        self.beq = beq\n",
    "        self.lb = lb\n",
    "        self.ub = ub\n",
    "        self.c = c\n",
    "        self.ceq = ceq\n",
    "        self.cons = self.__make_cons()\n",
    "        self.bounds = None\n",
    "\n",
    "        self.x, self.fval, self.status = None, None, False\n",
    "\n",
    "    def __make_cons(self):\n",
    "        # 创建约束条件\n",
    "        cons = []\n",
    "\n",
    "        # 线性等式约束\n",
    "        if np.size(self.Aeq) and np.size(self.beq):\n",
    "            for i in range(self.Aeq.shape[0]):\n",
    "                cons.append({\n",
    "                    'type':\n",
    "                    'eq',\n",
    "                    'fun': (lambda x: sum(self.Aeq[i] * x) - self.beq[i])\n",
    "                })\n",
    "\n",
    "        # 线性不等式约束(>=0)\n",
    "        if np.size(self.A) and np.size(self.b):\n",
    "            for i in range(self.A.shape[0]):\n",
    "                cons.append({\n",
    "                    'type': 'ineq',\n",
    "                    'fun': (lambda x: sum(self.A[i] * x) - self.b[i])\n",
    "                })\n",
    "\n",
    "        # 非线性不等式约束(>=0)\n",
    "        if self.c:\n",
    "            for fun in self.c():\n",
    "                cons.append({'type': 'ineq', 'fun': fun})\n",
    "\n",
    "        # 非线性等式约束\n",
    "        if self.ceq:\n",
    "            for fun in self.ceq():\n",
    "                cons.append({'type': 'eq', 'fun': fun})\n",
    "\n",
    "        # 上下界约束\n",
    "        if not self.lb:\n",
    "            self.lb = -np.ones(self.x0.shape) * np.inf\n",
    "\n",
    "        if not self.ub:\n",
    "            self.ub = np.ones(self.x0.shape) * np.inf\n",
    "\n",
    "            self.bounds = np.array(list(zip(self.lb, self.ub)), dtype=object)\n",
    "\n",
    "        cons = tuple(cons)\n",
    "        return cons\n",
    "\n",
    "    def solve(self):\n",
    "        # 求解规划问题\n",
    "        result = optimize.minimize(self.fun,\n",
    "                                   self.x0,\n",
    "                                   constraints=self.cons,\n",
    "                                   bounds=self.bounds)\n",
    "        self.x, self.fval, self.status = result.x, result.fun, result.success\n",
    "        return result\n",
    "\n",
    "    def show(self, for_min=True):\n",
    "        # 展示规划结果\n",
    "        if self.status == False:\n",
    "            print(\"无满足条件的解\")\n",
    "            return\n",
    "\n",
    "        if for_min:\n",
    "            print(f\"当x取 {self.x} 时,得最小值{self.fval}\")\n",
    "        else:\n",
    "            print(f\"当x取 {self.x} 时,得最大值{-self.fval}\")"
   ]
  },
  {
   "cell_type": "code",
   "execution_count": 54,
   "id": "8df8d807",
   "metadata": {},
   "outputs": [
    {
     "name": "stdout",
     "output_type": "stream",
     "text": [
      "当x取 [1. 1. 1.] 时,得最小值11.0\n"
     ]
    }
   ],
   "source": [
    "# 创建目标函数\n",
    "def fun(x):\n",
    "    y = x[0]**2 + x[1]**2 + x[2]**2 + 8\n",
    "    return y\n",
    "\n",
    "\n",
    "# 创建非线性不等式约束函数\n",
    "def c():\n",
    "    c1 = lambda x: x[0]**2 - x[1] + x[2]**2\n",
    "    c2 = lambda x: -x[0] - x[1]**2 - x[2]**2 + 20\n",
    "    return c1, c2\n",
    "\n",
    "\n",
    "# # 创建非线性等式约束函数\n",
    "def ceq():\n",
    "    ceq1 = lambda x: -x[0] - x[1]**2 + 2\n",
    "    ceq2 = lambda x: x[1] + 2 * x[2]**2 - 3\n",
    "    return ceq1, ceq2\n",
    "\n",
    "A=np.array([[1,1,1]])\n",
    "b=np.array([3])\n",
    "x0 = np.array([1, 1, 1])\n",
    "lb = [0, 0, 0]\n",
    "\n",
    "# 求解非线性规划问题\n",
    "pro = Nolinprog(fun, x0,A=A,b=b, c=c, ceq=ceq, lb=lb)\n",
    "pro.solve()\n",
    "pro.show()"
   ]
  },
  {
   "cell_type": "code",
   "execution_count": 41,
   "id": "6df3eccc",
   "metadata": {},
   "outputs": [
    {
     "data": {
      "text/plain": [
       "0"
      ]
     },
     "execution_count": 41,
     "metadata": {},
     "output_type": "execute_result"
    }
   ],
   "source": [
    "np.size([])"
   ]
  },
  {
   "cell_type": "code",
   "execution_count": null,
   "id": "b34e742c",
   "metadata": {},
   "outputs": [],
   "source": []
  },
  {
   "cell_type": "code",
   "execution_count": null,
   "id": "196eec78",
   "metadata": {},
   "outputs": [],
   "source": []
  }
 ],
 "metadata": {
  "kernelspec": {
   "display_name": "Python 3 (ipykernel)",
   "language": "python",
   "name": "python3"
  },
  "language_info": {
   "codemirror_mode": {
    "name": "ipython",
    "version": 3
   },
   "file_extension": ".py",
   "mimetype": "text/x-python",
   "name": "python",
   "nbconvert_exporter": "python",
   "pygments_lexer": "ipython3",
   "version": "3.9.12"
  },
  "latex_envs": {
   "LaTeX_envs_menu_present": true,
   "autoclose": false,
   "autocomplete": true,
   "bibliofile": "biblio.bib",
   "cite_by": "apalike",
   "current_citInitial": 1,
   "eqLabelWithNumbers": true,
   "eqNumInitial": 1,
   "hotkeys": {
    "equation": "Ctrl-E",
    "itemize": "Ctrl-I"
   },
   "labels_anchors": false,
   "latex_user_defs": false,
   "report_style_numbering": false,
   "user_envs_cfg": false
  },
  "toc": {
   "base_numbering": 1,
   "nav_menu": {},
   "number_sections": true,
   "sideBar": true,
   "skip_h1_title": false,
   "title_cell": "Table of Contents",
   "title_sidebar": "Contents",
   "toc_cell": false,
   "toc_position": {},
   "toc_section_display": true,
   "toc_window_display": false
  }
 },
 "nbformat": 4,
 "nbformat_minor": 5
}
