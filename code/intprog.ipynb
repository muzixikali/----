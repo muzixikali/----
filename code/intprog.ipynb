{
 "cells": [
  {
   "cell_type": "code",
   "execution_count": 21,
   "id": "b3125d36",
   "metadata": {},
   "outputs": [
    {
     "name": "stdout",
     "output_type": "stream",
     "text": [
      "NoName:\n",
      "MINIMIZE\n",
      "-1*x1 + -1*x2 + 0\n",
      "SUBJECT TO\n",
      "_C1: 14 x1 + 9 x2 <= 51\n",
      "\n",
      "_C2: - 6 x1 + 11 x2 <= 1\n",
      "\n",
      "VARIABLES\n",
      "0 <= x1 Integer\n",
      "0 <= x2 Integer\n",
      "\n",
      "最优值：4.0\n",
      "最优解：[3.0, 1.0]\n"
     ]
    }
   ],
   "source": [
    "# 导库\n",
    "import pulp\n",
    "import numpy as np\n",
    "\n",
    "# 初始化线性规划问题模型\n",
    "pro = pulp.LpProblem()\n",
    "\n",
    "# 创建整数型决策变量\n",
    "lb = [0, 0]\n",
    "ub = [None, None]\n",
    "bounds = np.array(list(zip(lb, ub)))\n",
    "x = np.array([\n",
    "    pulp.LpVariable(f'x{i}',\n",
    "                    lowBound=bounds[i - 1][0],\n",
    "                    upBound=bounds[i - 1][1],\n",
    "                    cat=\"Integer\") for i in [1, 2]\n",
    "])\n",
    "\n",
    "#建立目标函数\n",
    "c = -np.array([1, 1])\n",
    "pro += pulp.lpDot(c, x)\n",
    "\n",
    "# 不等式约束\n",
    "A = np.array([[14, 9], [-6, 11]])\n",
    "b = np.array([51, 1])\n",
    "for i in range(len(A)):\n",
    "    pro += (pulp.lpDot(A[i], x) <= b[i])  # 添加限制条件\n",
    "\n",
    "#求解\n",
    "pro.solve()\n",
    "\n",
    "#输出结果\n",
    "print(pro)\n",
    "print(f'最优值：{-pulp.value(pro.objective)}')\n",
    "print(f'最优解：{[pulp.value(var) for var in x]}')"
   ]
  },
  {
   "cell_type": "code",
   "execution_count": 12,
   "id": "554785bb",
   "metadata": {},
   "outputs": [
    {
     "name": "stdout",
     "output_type": "stream",
     "text": [
      "(4, 2)\n"
     ]
    }
   ],
   "source": [
    "A=[1,2,4]\n",
    "print(max_and_index(A))"
   ]
  },
  {
   "cell_type": "code",
   "execution_count": null,
   "id": "be6303e8",
   "metadata": {},
   "outputs": [],
   "source": [
    "pulp.LpVariable()"
   ]
  }
 ],
 "metadata": {
  "kernelspec": {
   "display_name": "Python 3 (ipykernel)",
   "language": "python",
   "name": "python3"
  },
  "language_info": {
   "codemirror_mode": {
    "name": "ipython",
    "version": 3
   },
   "file_extension": ".py",
   "mimetype": "text/x-python",
   "name": "python",
   "nbconvert_exporter": "python",
   "pygments_lexer": "ipython3",
   "version": "3.9.12"
  },
  "latex_envs": {
   "LaTeX_envs_menu_present": true,
   "autoclose": false,
   "autocomplete": true,
   "bibliofile": "biblio.bib",
   "cite_by": "apalike",
   "current_citInitial": 1,
   "eqLabelWithNumbers": true,
   "eqNumInitial": 1,
   "hotkeys": {
    "equation": "Ctrl-E",
    "itemize": "Ctrl-I"
   },
   "labels_anchors": false,
   "latex_user_defs": false,
   "report_style_numbering": false,
   "user_envs_cfg": false
  },
  "toc": {
   "base_numbering": 1,
   "nav_menu": {},
   "number_sections": true,
   "sideBar": true,
   "skip_h1_title": false,
   "title_cell": "Table of Contents",
   "title_sidebar": "Contents",
   "toc_cell": false,
   "toc_position": {},
   "toc_section_display": true,
   "toc_window_display": false
  }
 },
 "nbformat": 4,
 "nbformat_minor": 5
}
